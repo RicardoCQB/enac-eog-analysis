{
 "cells": [
  {
   "cell_type": "markdown",
   "id": "invisible-juvenile",
   "metadata": {},
   "source": [
    "### Imports"
   ]
  },
  {
   "cell_type": "code",
   "execution_count": 1,
   "id": "previous-cleaner",
   "metadata": {},
   "outputs": [],
   "source": [
    "import os\n",
    "import sys\n",
    "sys.path.append('..')\n",
    "\n",
    "import pyedflib\n",
    "import numpy as np\n",
    "import matplotlib.pyplot as plt\n",
    "from scipy import signal\n",
    "from imp import reload\n",
    "import pandas as pd\n",
    "import pywt\n",
    "import readFiles\n",
    "import databasePreparation\n",
    "import preProcessing\n",
    "import readEogertData\n",
    "import math\n",
    "from scipy import ndimage, misc\n",
    "import json\n",
    "import string\n",
    "import neurokit2 as nk\n",
    "import mne\n",
    "\n",
    "from visualization import plotEogElectrodesSignal, plotVertHorEOG\n",
    "from classificationUtils import peaksToBinary, peaksBinaryToString, countEyeMovements, findPeaks"
   ]
  },
  {
   "cell_type": "markdown",
   "id": "talented-supplement",
   "metadata": {},
   "source": [
    "### Reading Data and pre-processing"
   ]
  },
  {
   "cell_type": "code",
   "execution_count": 2,
   "id": "small-forum",
   "metadata": {},
   "outputs": [],
   "source": [
    "# Reading the signals from the EDF file\n",
    "\n",
    "edfFileName = 'C:/Users/Ricardo\\source/enac-eog-analysis/data/EOG_EyeLink/RI02/Testdata0602.edf'\n",
    "eyesData = readFiles.readEog(edfFileName)\n",
    "\n",
    "freqSample = 2048\n",
    "\n",
    "# Reading the trigger labels for the different parts of the experiment\n",
    "\n",
    "labelsCsvFile = 'C:/Users/Ricardo\\source/enac-eog-analysis/data/EOG_EyeLink/RI02/labels_triggers_602.csv'\n",
    "\n",
    "triggerCsv = readFiles.readCsvTriggerLabels(labelsCsvFile)"
   ]
  },
  {
   "cell_type": "code",
   "execution_count": 3,
   "id": "sought-maximum",
   "metadata": {},
   "outputs": [],
   "source": [
    "# Pre-processing: noise removal using median filter\n",
    "verticalEOG4, horizontalEOG4 = preProcessing.electrodesToVertHori(eyesData, 0, 1, 2, 3)\n",
    "\n",
    "verticalEogDenoised4 = ndimage.median_filter(verticalEOG4, size = 200)\n",
    "horizontalEogDenoised4 = ndimage.median_filter(horizontalEOG4, size = 200)"
   ]
  },
  {
   "cell_type": "code",
   "execution_count": 4,
   "id": "decreased-loading",
   "metadata": {},
   "outputs": [],
   "source": [
    "import numpy as np\n",
    "import matplotlib.pyplot as plt\n",
    "from matplotlib.widgets import Slider\n",
    "\n",
    "fig, ax = plt.subplots()\n",
    "plt.subplots_adjust(bottom=0.25)\n",
    "\n",
    "t = np.arange(0.0, 100.0, 0.1)\n",
    "s = np.sin(2*np.pi*t)\n",
    "l, = plt.plot(t,s)\n",
    "plt.axis([0, 10, -1, 1])\n",
    "\n",
    "axcolor = 'lightgoldenrodyellow'\n",
    "axpos = plt.axes([0.2, 0.1, 0.65, 0.03], facecolor=axcolor)\n",
    "\n",
    "spos = Slider(axpos, 'Pos', 0.1, 90.0)\n",
    "\n",
    "def update(val):\n",
    "    pos = spos.val\n",
    "    ax.axis([pos,pos+10,-1,1])\n",
    "    fig.canvas.draw_idle()\n",
    "\n",
    "spos.on_changed(update)\n",
    "\n",
    "%matplotlib qt\n",
    "plt.show()"
   ]
  },
  {
   "cell_type": "code",
   "execution_count": null,
   "id": "matched-tracker",
   "metadata": {},
   "outputs": [],
   "source": []
  },
  {
   "cell_type": "code",
   "execution_count": null,
   "id": "different-gauge",
   "metadata": {},
   "outputs": [],
   "source": []
  }
 ],
 "metadata": {
  "kernelspec": {
   "display_name": "Python 3",
   "language": "python",
   "name": "python3"
  },
  "language_info": {
   "codemirror_mode": {
    "name": "ipython",
    "version": 3
   },
   "file_extension": ".py",
   "mimetype": "text/x-python",
   "name": "python",
   "nbconvert_exporter": "python",
   "pygments_lexer": "ipython3",
   "version": "3.8.5"
  }
 },
 "nbformat": 4,
 "nbformat_minor": 5
}
