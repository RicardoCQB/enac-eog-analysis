{
 "cells": [
  {
   "cell_type": "markdown",
   "id": "lesbian-miracle",
   "metadata": {},
   "source": [
    "### Imports"
   ]
  },
  {
   "cell_type": "code",
   "execution_count": 11,
   "id": "traditional-competition",
   "metadata": {},
   "outputs": [],
   "source": [
    "import os\n",
    "import sys\n",
    "sys.path.append('..')\n",
    "\n",
    "import pyedflib\n",
    "import numpy as np\n",
    "import matplotlib.pyplot as plt\n",
    "from scipy import signal\n",
    "from imp import reload\n",
    "import pandas as pd\n",
    "import pywt\n",
    "import readFiles\n",
    "import databasePreparation\n",
    "import preProcessing\n",
    "import readEogertData\n",
    "import math\n",
    "from scipy import ndimage, misc\n",
    "import json\n",
    "import string\n",
    "import neurokit2 as nk\n",
    "import mne\n",
    "\n",
    "from visualization import plotEogElectrodesSignal, plotVertHorEOG\n",
    "from classificationUtils import peaksToBinary, peaksBinaryToString, countEyeMovements, findPeaks"
   ]
  },
  {
   "cell_type": "markdown",
   "id": "specific-cinema",
   "metadata": {},
   "source": [
    "### Reading Data"
   ]
  },
  {
   "cell_type": "code",
   "execution_count": null,
   "id": "meaning-causing",
   "metadata": {},
   "outputs": [],
   "source": [
    "# Reading the signals from the EDF file\n",
    "\n",
    "edfFileName = 'C:/Users/Ricardo\\source/enac-eog-analysis/data/EOG_EyeLink/RI02/Testdata0602.edf'\n",
    "eyesData = readFiles.readEog(edfFileName)\n",
    "\n",
    "freqSample = 2048"
   ]
  }
 ],
 "metadata": {
  "kernelspec": {
   "display_name": "Python 3",
   "language": "python",
   "name": "python3"
  },
  "language_info": {
   "codemirror_mode": {
    "name": "ipython",
    "version": 3
   },
   "file_extension": ".py",
   "mimetype": "text/x-python",
   "name": "python",
   "nbconvert_exporter": "python",
   "pygments_lexer": "ipython3",
   "version": "3.8.5"
  }
 },
 "nbformat": 4,
 "nbformat_minor": 5
}
